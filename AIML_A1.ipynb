{
  "nbformat": 4,
  "nbformat_minor": 0,
  "metadata": {
    "colab": {
      "provenance": [],
      "authorship_tag": "ABX9TyNRdECZLLeRg9hyfu3DE/FU",
      "include_colab_link": true
    },
    "kernelspec": {
      "name": "python3",
      "display_name": "Python 3"
    },
    "language_info": {
      "name": "python"
    }
  },
  "cells": [
    {
      "cell_type": "markdown",
      "metadata": {
        "id": "view-in-github",
        "colab_type": "text"
      },
      "source": [
        "<a href=\"https://colab.research.google.com/github/hrushikesh01/AIML-2024-25/blob/main/AIML_A1.ipynb\" target=\"_parent\"><img src=\"https://colab.research.google.com/assets/colab-badge.svg\" alt=\"Open In Colab\"/></a>"
      ]
    },
    {
      "cell_type": "code",
      "execution_count": null,
      "metadata": {
        "id": "zttUf45EP5S9"
      },
      "outputs": [],
      "source": [
        "import numpy as np\n",
        "n = list(range(1,11))\n",
        "print(n)\n",
        "\n",
        "lst1=[1,2,3]\n",
        "array1 = np.array(lst1)\n",
        "array1\n",
        "\n",
        "type(lst1)\n",
        "\n",
        "type(array1)\n",
        "\n",
        "list2=[3,2,1]\n",
        "array2=np.array(list2)\n",
        "array2\n",
        "\n",
        "print(\"array2 multiplied by array1: \",array1*array2)\n",
        "print(\"array2 divided by array1: \",array2/array1)\n",
        "print(\"array2 raised to the power of array1: \",array2**array1)\n",
        "print(f\" {array2} raised to the power of {array1}:,{array2**array1}\")"
      ]
    }
  ]
}