{
  "nbformat": 4,
  "nbformat_minor": 0,
  "metadata": {
    "colab": {
      "provenance": [],
      "authorship_tag": "ABX9TyPRx5d+EZ2B+qrAHiirWFGb",
      "include_colab_link": true
    },
    "kernelspec": {
      "name": "python3",
      "display_name": "Python 3"
    },
    "language_info": {
      "name": "python"
    }
  },
  "cells": [
    {
      "cell_type": "markdown",
      "metadata": {
        "id": "view-in-github",
        "colab_type": "text"
      },
      "source": [
        "<a href=\"https://colab.research.google.com/github/hrushikesh01/AIML-2024-25/blob/main/AIML_A1.ipynb\" target=\"_parent\"><img src=\"https://colab.research.google.com/assets/colab-badge.svg\" alt=\"Open In Colab\"/></a>"
      ]
    },
    {
      "cell_type": "code",
      "execution_count": 2,
      "metadata": {
        "colab": {
          "base_uri": "https://localhost:8080/"
        },
        "id": "zttUf45EP5S9",
        "outputId": "ca89ba45-76e2-4082-d9de-6794ff846dfa"
      },
      "outputs": [
        {
          "output_type": "stream",
          "name": "stdout",
          "text": [
            "[1, 2, 3, 4, 5, 6, 7, 8, 9, 10]\n",
            "array2 multiplied by array1:  [3 4 3]\n",
            "array2 divided by array1:  [3.         1.         0.33333333]\n",
            "array2 raised to the power of array1:  [3 4 1]\n",
            " [3 2 1] raised to the power of [1 2 3]:,[3 4 1]\n",
            "Sine:  [0.84147098 0.90929743 0.14112001]\n",
            "Natural logarithm:  [0.         0.69314718 1.09861229]\n",
            "Base-10 logarithm:  [0.         0.30103    0.47712125]\n",
            "Base-2 logarithm:  [0.        1.        1.5849625]\n",
            "Exponential:  [ 2.71828183  7.3890561  20.08553692]\n",
            "Adding two numpy arrays {array1} and {array2} together: [4 4 4]\n",
            "Adding two numpy arrays [1 2 3] and [3 2 1] together: [4 4 4]\n"
          ]
        }
      ],
      "source": [
        "import numpy as np\n",
        "n = list(range(1,11))\n",
        "print(n)\n",
        "\n",
        "list1=[1,2,3]\n",
        "arr1 = np.array(list1)\n",
        "arr1\n",
        "\n",
        "type(list1)\n",
        "\n",
        "type(arr1)\n",
        "\n",
        "list2=[3,2,1]\n",
        "arr2=np.array(list2)\n",
        "arr2\n",
        "\n",
        "print(\"array2 multiplied by array1: \",arr1*arr2)\n",
        "print(\"array2 divided by array1: \",arr2/arr1)\n",
        "print(\"array2 raised to the power of array1: \",arr2**arr1)\n",
        "print(f\" {arr2} raised to the power of {arr1}:,{arr2**arr1}\")\n",
        "\n",
        "\n",
        "print(\"Sine: \",np.sin(arr1))\n",
        "\n",
        "\n",
        "print(\"Natural logarithm: \",np.log(arr1))\n",
        "print(\"Base-10 logarithm: \",np.log10(arr1))\n",
        "print(\"Base-2 logarithm: \",np.log2(arr1))\n",
        "\n",
        "\n",
        "print(\"Exponential: \",np.exp(arr1))\n",
        "\n",
        "print(\"Adding two numpy arrays {array1} and {array2} together:\", arr1+arr2)\n",
        "\n",
        "print(f\"Adding two numpy arrays {arr1} and {arr2} together: {arr1+arr2}\")\n"
      ]
    }
  ]
}